{
 "cells": [
  {
   "cell_type": "code",
   "execution_count": 2,
   "metadata": {},
   "outputs": [],
   "source": [
    "import pandas as pd \n",
    "import json "
   ]
  },
  {
   "cell_type": "code",
   "execution_count": null,
   "metadata": {},
   "outputs": [],
   "source": [
    "df = pd.read_json(\"/Users/ethantrang/Documents/zaloai_challenge_2023/raw/math_train.json\")\n",
    "\n",
    "def make_col(row):\n",
    "    for key, value in row[\"data\"].items():\n",
    "        row[key] = value \n",
    "    return row \n",
    "\n",
    "df = df.apply(make_col, axis=1)\n",
    "del df[\"__count__\"]\n",
    "del df[\"data\"]\n",
    "df = df[[\"id\", \"question\", \"choices\", \"explanation\", \"answer\"]]\n",
    "df.to_csv(\"math_train.csv\",index=False)"
   ]
  },
  {
   "cell_type": "code",
   "execution_count": 3,
   "metadata": {},
   "outputs": [
    {
     "data": {
      "text/html": [
       "<div>\n",
       "<style scoped>\n",
       "    .dataframe tbody tr th:only-of-type {\n",
       "        vertical-align: middle;\n",
       "    }\n",
       "\n",
       "    .dataframe tbody tr th {\n",
       "        vertical-align: top;\n",
       "    }\n",
       "\n",
       "    .dataframe thead th {\n",
       "        text-align: right;\n",
       "    }\n",
       "</style>\n",
       "<table border=\"1\" class=\"dataframe\">\n",
       "  <thead>\n",
       "    <tr style=\"text-align: right;\">\n",
       "      <th></th>\n",
       "      <th>id</th>\n",
       "      <th>question</th>\n",
       "      <th>choices</th>\n",
       "      <th>explanation</th>\n",
       "      <th>answer</th>\n",
       "    </tr>\n",
       "  </thead>\n",
       "  <tbody>\n",
       "    <tr>\n",
       "      <th>0</th>\n",
       "      <td>1</td>\n",
       "      <td>Một người bán hàng bỏ ra 80,000 đồng tiền vốn ...</td>\n",
       "      <td>['A. 80,000 : 6', 'B. 80,000 x 6', 'C. 80,000 ...</td>\n",
       "      <td>Theo đề bài, số tiền lỗ bằng 6% của 80 000 đồn...</td>\n",
       "      <td>D. (80,000 x 6) : 100</td>\n",
       "    </tr>\n",
       "    <tr>\n",
       "      <th>1</th>\n",
       "      <td>10</td>\n",
       "      <td>8 dm2 24 cm2 = ……… dm2. Số thích hợp điền v...</td>\n",
       "      <td>['A. 824', 'B. 82,4', 'C. 8,24', 'D. 0,824']</td>\n",
       "      <td>Ta có 24 cm2 = 0,24 dm2\\n Vậy 8 dm2 24 cm2 = ...</td>\n",
       "      <td>C. 8,24</td>\n",
       "    </tr>\n",
       "    <tr>\n",
       "      <th>2</th>\n",
       "      <td>100</td>\n",
       "      <td>10% của 11,5m2 là:</td>\n",
       "      <td>['A. 10,15dm2', 'B. 1,5m2', 'C. 15,5m2', 'D. 1...</td>\n",
       "      <td>10% của 11,5m2 là: 11,5 ${\\times}$ 10 : 100 = ...</td>\n",
       "      <td>D. 1,15m2</td>\n",
       "    </tr>\n",
       "    <tr>\n",
       "      <th>3</th>\n",
       "      <td>1004</td>\n",
       "      <td>Một tam giác có đáy bằng 15 cm và gấp 2,5 l...</td>\n",
       "      <td>['A. 90 cm2', 'B. 37,5 cm2', 'C. 45 cm2', 'D. ...</td>\n",
       "      <td>Chiều cao của tam giác đó là: 15 : 2,5 = 6 (c...</td>\n",
       "      <td>C. 45 cm2</td>\n",
       "    </tr>\n",
       "    <tr>\n",
       "      <th>4</th>\n",
       "      <td>1005</td>\n",
       "      <td>Một tấm thiệp hình chữ nhật có chiều rộ...</td>\n",
       "      <td>['A. 162 cm2', 'B. 81 cm2', 'C. 99 cm2', 'D. 6...</td>\n",
       "      <td>Chiều dài hình chữ nhật là: 9 ${\\times}$ 2 ...</td>\n",
       "      <td>A. 162 cm2</td>\n",
       "    </tr>\n",
       "    <tr>\n",
       "      <th>...</th>\n",
       "      <td>...</td>\n",
       "      <td>...</td>\n",
       "      <td>...</td>\n",
       "      <td>...</td>\n",
       "      <td>...</td>\n",
       "    </tr>\n",
       "    <tr>\n",
       "      <th>1195</th>\n",
       "      <td>991</td>\n",
       "      <td>Một ô tô đi được 60 km với vận tốc 60 km/giờ, ...</td>\n",
       "      <td>['A. 1,5 giờ', 'B. 2 giờ', 'C. 3 giờ', 'D. 4 g...</td>\n",
       "      <td>vì đoạn đường thứ nhất ô tô đi hết 1 giờ, đoạn...</td>\n",
       "      <td>C. 3 giờ</td>\n",
       "    </tr>\n",
       "    <tr>\n",
       "      <th>1196</th>\n",
       "      <td>993</td>\n",
       "      <td>Một ô tô đi từ A đến B với vận tốc 38,5k...</td>\n",
       "      <td>['A. 2 giờ 1 phút', 'B. 2 giờ 6 phút', 'C. 2...</td>\n",
       "      <td>Thời gian ô tô đã đi là: 100,1 : 38,5 = 2,6 (...</td>\n",
       "      <td>C. 2 giờ 36 phút</td>\n",
       "    </tr>\n",
       "    <tr>\n",
       "      <th>1197</th>\n",
       "      <td>994</td>\n",
       "      <td>Một ô tô đi từ Hà Nội lúc 11 giờ trưa và đến V...</td>\n",
       "      <td>['A. 4 giờ 30 phút', 'B. 6 giờ 30 phút', 'C. 6...</td>\n",
       "      <td>5 giờ 30 phút chiều = 17 giờ 30 phút\\n Thời gi...</td>\n",
       "      <td>D. 6 giờ</td>\n",
       "    </tr>\n",
       "    <tr>\n",
       "      <th>1198</th>\n",
       "      <td>999</td>\n",
       "      <td>Một sân vận động hình chữ nhật có chiều ...</td>\n",
       "      <td>['A.380 m', 'B.285 m', 'C.670 m', 'D.760 m']</td>\n",
       "      <td>Chiều dài sân vận động là: 95 ${\\times}$ 3 ...</td>\n",
       "      <td>D.760 m</td>\n",
       "    </tr>\n",
       "    <tr>\n",
       "      <th>1199</th>\n",
       "      <td>c</td>\n",
       "      <td>Chữ số 7 trong số thập phân 53,675 có giá trị là:</td>\n",
       "      <td>['A: 7/10', 'B: 7/100', 'C: 70', 'D: 700']</td>\n",
       "      <td>NaN</td>\n",
       "      <td>B: 7/100</td>\n",
       "    </tr>\n",
       "  </tbody>\n",
       "</table>\n",
       "<p>1200 rows × 5 columns</p>\n",
       "</div>"
      ],
      "text/plain": [
       "        id                                           question  \\\n",
       "0        1  Một người bán hàng bỏ ra 80,000 đồng tiền vốn ...   \n",
       "1       10  8 dm2 24 cm2 = ……… dm2. Số thích hợp điền v...   \n",
       "2      100                                 10% của 11,5m2 là:   \n",
       "3     1004  Một tam giác có đáy bằng 15 cm và gấp 2,5 l...   \n",
       "4     1005  Một tấm thiệp hình chữ nhật có chiều rộ...   \n",
       "...    ...                                                ...   \n",
       "1195   991  Một ô tô đi được 60 km với vận tốc 60 km/giờ, ...   \n",
       "1196   993  Một ô tô đi từ A đến B với vận tốc 38,5k...   \n",
       "1197   994  Một ô tô đi từ Hà Nội lúc 11 giờ trưa và đến V...   \n",
       "1198   999  Một sân vận động hình chữ nhật có chiều ...   \n",
       "1199     c  Chữ số 7 trong số thập phân 53,675 có giá trị là:   \n",
       "\n",
       "                                                choices  \\\n",
       "0     ['A. 80,000 : 6', 'B. 80,000 x 6', 'C. 80,000 ...   \n",
       "1          ['A. 824', 'B. 82,4', 'C. 8,24', 'D. 0,824']   \n",
       "2     ['A. 10,15dm2', 'B. 1,5m2', 'C. 15,5m2', 'D. 1...   \n",
       "3     ['A. 90 cm2', 'B. 37,5 cm2', 'C. 45 cm2', 'D. ...   \n",
       "4     ['A. 162 cm2', 'B. 81 cm2', 'C. 99 cm2', 'D. 6...   \n",
       "...                                                 ...   \n",
       "1195  ['A. 1,5 giờ', 'B. 2 giờ', 'C. 3 giờ', 'D. 4 g...   \n",
       "1196  ['A. 2 giờ 1 phút', 'B. 2 giờ 6 phút', 'C. 2...   \n",
       "1197  ['A. 4 giờ 30 phút', 'B. 6 giờ 30 phút', 'C. 6...   \n",
       "1198       ['A.380 m', 'B.285 m', 'C.670 m', 'D.760 m']   \n",
       "1199         ['A: 7/10', 'B: 7/100', 'C: 70', 'D: 700']   \n",
       "\n",
       "                                            explanation                 answer  \n",
       "0     Theo đề bài, số tiền lỗ bằng 6% của 80 000 đồn...  D. (80,000 x 6) : 100  \n",
       "1     Ta có 24 cm2 = 0,24 dm2\\n Vậy 8 dm2 24 cm2 = ...                C. 8,24  \n",
       "2     10% của 11,5m2 là: 11,5 ${\\times}$ 10 : 100 = ...              D. 1,15m2  \n",
       "3     Chiều cao của tam giác đó là: 15 : 2,5 = 6 (c...              C. 45 cm2  \n",
       "4     Chiều dài hình chữ nhật là: 9 ${\\times}$ 2 ...             A. 162 cm2  \n",
       "...                                                 ...                    ...  \n",
       "1195  vì đoạn đường thứ nhất ô tô đi hết 1 giờ, đoạn...               C. 3 giờ  \n",
       "1196  Thời gian ô tô đã đi là: 100,1 : 38,5 = 2,6 (...      C. 2 giờ 36 phút  \n",
       "1197  5 giờ 30 phút chiều = 17 giờ 30 phút\\n Thời gi...               D. 6 giờ  \n",
       "1198  Chiều dài sân vận động là: 95 ${\\times}$ 3 ...                D.760 m  \n",
       "1199                                                NaN               B: 7/100  \n",
       "\n",
       "[1200 rows x 5 columns]"
      ]
     },
     "execution_count": 3,
     "metadata": {},
     "output_type": "execute_result"
    }
   ],
   "source": [
    "df = pd.read_csv(\"/Users/ethantrang/Documents/zaloai_challenge_2023/data/math_train.csv\")\n",
    "df"
   ]
  },
  {
   "cell_type": "code",
   "execution_count": null,
   "metadata": {},
   "outputs": [],
   "source": [
    "df = pd.read_csv(\"/Users/ethantrang/Documents/zaloai_challenge_2023/data/math_train.csv\")\n",
    "\n",
    "def build_prompt(row):\n",
    "    row[\"prompt\"] = \"Given the question:\\n\" + row[\"question\"] + \"\\n\" + \"\\n\".join(eval(row[\"choices\"])) + \"\\n\" + \"The answer is: \" + str(row[\"explanation\"]) + \" Vì vậy đáp án là: \" + row[\"answer\"]\n",
    "    return row \n",
    "\n",
    "df = df.apply(build_prompt, axis=1)\n",
    "result = df[\"prompt\"].to_list()\n",
    "with open('prompts.json', 'w') as outfile:\n",
    "    json.dump(result, outfile, ensure_ascii=False)"
   ]
  },
  {
   "cell_type": "code",
   "execution_count": 1,
   "metadata": {},
   "outputs": [
    {
     "data": {
      "application/vnd.jupyter.widget-view+json": {
       "model_id": "0fee804ffbeb4cb18340ef3dc7f6a2f9",
       "version_major": 2,
       "version_minor": 0
      },
      "text/plain": [
       "Downloading data files:   0%|          | 0/1 [00:00<?, ?it/s]"
      ]
     },
     "metadata": {},
     "output_type": "display_data"
    },
    {
     "data": {
      "application/vnd.jupyter.widget-view+json": {
       "model_id": "5367de95b8554683b5a8a1ed6f613fc4",
       "version_major": 2,
       "version_minor": 0
      },
      "text/plain": [
       "Extracting data files:   0%|          | 0/1 [00:00<?, ?it/s]"
      ]
     },
     "metadata": {},
     "output_type": "display_data"
    },
    {
     "data": {
      "application/vnd.jupyter.widget-view+json": {
       "model_id": "6cf5146a0a0f45dbbeb36ba37a4bb76f",
       "version_major": 2,
       "version_minor": 0
      },
      "text/plain": [
       "Generating train split: 0 examples [00:00, ? examples/s]"
      ]
     },
     "metadata": {},
     "output_type": "display_data"
    },
    {
     "name": "stderr",
     "output_type": "stream",
     "text": [
      "Failed to read file '/Users/ethantrang/Documents/zaloai_challenge_2023/data/prompts.json' with error <class 'AttributeError'>: 'str' object has no attribute 'keys'\n"
     ]
    },
    {
     "ename": "DatasetGenerationError",
     "evalue": "An error occurred while generating the dataset",
     "output_type": "error",
     "traceback": [
      "\u001b[0;31m---------------------------------------------------------------------------\u001b[0m",
      "\u001b[0;31mValueError\u001b[0m                                Traceback (most recent call last)",
      "File \u001b[0;32m~/anaconda3/envs/zaloai/lib/python3.10/site-packages/datasets/builder.py:1925\u001b[0m, in \u001b[0;36mArrowBasedBuilder._prepare_split_single\u001b[0;34m(self, gen_kwargs, fpath, file_format, max_shard_size, job_id)\u001b[0m\n\u001b[1;32m   1924\u001b[0m _time \u001b[39m=\u001b[39m time\u001b[39m.\u001b[39mtime()\n\u001b[0;32m-> 1925\u001b[0m \u001b[39mfor\u001b[39;00m _, table \u001b[39min\u001b[39;00m generator:\n\u001b[1;32m   1926\u001b[0m     \u001b[39mif\u001b[39;00m max_shard_size \u001b[39mis\u001b[39;00m \u001b[39mnot\u001b[39;00m \u001b[39mNone\u001b[39;00m \u001b[39mand\u001b[39;00m writer\u001b[39m.\u001b[39m_num_bytes \u001b[39m>\u001b[39m max_shard_size:\n",
      "File \u001b[0;32m~/anaconda3/envs/zaloai/lib/python3.10/site-packages/datasets/packaged_modules/json/json.py:156\u001b[0m, in \u001b[0;36mJson._generate_tables\u001b[0;34m(self, files)\u001b[0m\n\u001b[1;32m    155\u001b[0m     logger\u001b[39m.\u001b[39merror(\u001b[39mf\u001b[39m\u001b[39m\"\u001b[39m\u001b[39mFailed to read file \u001b[39m\u001b[39m'\u001b[39m\u001b[39m{\u001b[39;00mfile\u001b[39m}\u001b[39;00m\u001b[39m'\u001b[39m\u001b[39m with error \u001b[39m\u001b[39m{\u001b[39;00m\u001b[39mtype\u001b[39m(e)\u001b[39m}\u001b[39;00m\u001b[39m: \u001b[39m\u001b[39m{\u001b[39;00me\u001b[39m}\u001b[39;00m\u001b[39m\"\u001b[39m)\n\u001b[0;32m--> 156\u001b[0m     \u001b[39mraise\u001b[39;00m \u001b[39mValueError\u001b[39;00m(\u001b[39mf\u001b[39m\u001b[39m\"\u001b[39m\u001b[39mNot able to read records in the JSON file at \u001b[39m\u001b[39m{\u001b[39;00mfile\u001b[39m}\u001b[39;00m\u001b[39m.\u001b[39m\u001b[39m\"\u001b[39m) \u001b[39mfrom\u001b[39;00m \u001b[39mNone\u001b[39;00m\n\u001b[1;32m    157\u001b[0m \u001b[39myield\u001b[39;00m file_idx, \u001b[39mself\u001b[39m\u001b[39m.\u001b[39m_cast_table(pa_table)\n",
      "\u001b[0;31mValueError\u001b[0m: Not able to read records in the JSON file at /Users/ethantrang/Documents/zaloai_challenge_2023/data/prompts.json.",
      "\nThe above exception was the direct cause of the following exception:\n",
      "\u001b[0;31mDatasetGenerationError\u001b[0m                    Traceback (most recent call last)",
      "\u001b[1;32m/Users/ethantrang/Documents/zaloai_challenge_2023/notebooks/main.ipynb Cell 5\u001b[0m line \u001b[0;36m1\n\u001b[1;32m     <a href='vscode-notebook-cell:/Users/ethantrang/Documents/zaloai_challenge_2023/notebooks/main.ipynb#W4sZmlsZQ%3D%3D?line=9'>10</a>\u001b[0m model \u001b[39m=\u001b[39m BloomForCausalLM\u001b[39m.\u001b[39mfrom_pretrained(\u001b[39m\"\u001b[39m\u001b[39mbigscience/bloomz-560m\u001b[39m\u001b[39m\"\u001b[39m)\n\u001b[1;32m     <a href='vscode-notebook-cell:/Users/ethantrang/Documents/zaloai_challenge_2023/notebooks/main.ipynb#W4sZmlsZQ%3D%3D?line=11'>12</a>\u001b[0m \u001b[39m# Loading dataset prompts.json built using de portuguese legalQA dataset\u001b[39;00m\n\u001b[0;32m---> <a href='vscode-notebook-cell:/Users/ethantrang/Documents/zaloai_challenge_2023/notebooks/main.ipynb#W4sZmlsZQ%3D%3D?line=12'>13</a>\u001b[0m dataset \u001b[39m=\u001b[39m load_dataset(\u001b[39m\"\u001b[39;49m\u001b[39mjson\u001b[39;49m\u001b[39m\"\u001b[39;49m, data_files\u001b[39m=\u001b[39;49m\u001b[39m\"\u001b[39;49m\u001b[39m/Users/ethantrang/Documents/zaloai_challenge_2023/data/prompts.json\u001b[39;49m\u001b[39m\"\u001b[39;49m)\n\u001b[1;32m     <a href='vscode-notebook-cell:/Users/ethantrang/Documents/zaloai_challenge_2023/notebooks/main.ipynb#W4sZmlsZQ%3D%3D?line=14'>15</a>\u001b[0m \u001b[39m# # prepare the data for training\u001b[39;00m\n\u001b[1;32m     <a href='vscode-notebook-cell:/Users/ethantrang/Documents/zaloai_challenge_2023/notebooks/main.ipynb#W4sZmlsZQ%3D%3D?line=15'>16</a>\u001b[0m \u001b[39m# def prepare_train_data(data):\u001b[39;00m\n\u001b[1;32m     <a href='vscode-notebook-cell:/Users/ethantrang/Documents/zaloai_challenge_2023/notebooks/main.ipynb#W4sZmlsZQ%3D%3D?line=16'>17</a>\u001b[0m \u001b[39m#     # prompt + completion\u001b[39;00m\n\u001b[0;32m   (...)\u001b[0m\n\u001b[1;32m     <a href='vscode-notebook-cell:/Users/ethantrang/Documents/zaloai_challenge_2023/notebooks/main.ipynb#W4sZmlsZQ%3D%3D?line=25'>26</a>\u001b[0m \u001b[39m#                                      batched=True, \u001b[39;00m\n\u001b[1;32m     <a href='vscode-notebook-cell:/Users/ethantrang/Documents/zaloai_challenge_2023/notebooks/main.ipynb#W4sZmlsZQ%3D%3D?line=26'>27</a>\u001b[0m \u001b[39m#                                      remove_columns=[\"text\"])\u001b[39;00m\n",
      "File \u001b[0;32m~/anaconda3/envs/zaloai/lib/python3.10/site-packages/datasets/load.py:2153\u001b[0m, in \u001b[0;36mload_dataset\u001b[0;34m(path, name, data_dir, data_files, split, cache_dir, features, download_config, download_mode, verification_mode, ignore_verifications, keep_in_memory, save_infos, revision, token, use_auth_token, task, streaming, num_proc, storage_options, **config_kwargs)\u001b[0m\n\u001b[1;32m   2150\u001b[0m try_from_hf_gcs \u001b[39m=\u001b[39m path \u001b[39mnot\u001b[39;00m \u001b[39min\u001b[39;00m _PACKAGED_DATASETS_MODULES\n\u001b[1;32m   2152\u001b[0m \u001b[39m# Download and prepare data\u001b[39;00m\n\u001b[0;32m-> 2153\u001b[0m builder_instance\u001b[39m.\u001b[39;49mdownload_and_prepare(\n\u001b[1;32m   2154\u001b[0m     download_config\u001b[39m=\u001b[39;49mdownload_config,\n\u001b[1;32m   2155\u001b[0m     download_mode\u001b[39m=\u001b[39;49mdownload_mode,\n\u001b[1;32m   2156\u001b[0m     verification_mode\u001b[39m=\u001b[39;49mverification_mode,\n\u001b[1;32m   2157\u001b[0m     try_from_hf_gcs\u001b[39m=\u001b[39;49mtry_from_hf_gcs,\n\u001b[1;32m   2158\u001b[0m     num_proc\u001b[39m=\u001b[39;49mnum_proc,\n\u001b[1;32m   2159\u001b[0m     storage_options\u001b[39m=\u001b[39;49mstorage_options,\n\u001b[1;32m   2160\u001b[0m )\n\u001b[1;32m   2162\u001b[0m \u001b[39m# Build dataset for splits\u001b[39;00m\n\u001b[1;32m   2163\u001b[0m keep_in_memory \u001b[39m=\u001b[39m (\n\u001b[1;32m   2164\u001b[0m     keep_in_memory \u001b[39mif\u001b[39;00m keep_in_memory \u001b[39mis\u001b[39;00m \u001b[39mnot\u001b[39;00m \u001b[39mNone\u001b[39;00m \u001b[39melse\u001b[39;00m is_small_dataset(builder_instance\u001b[39m.\u001b[39minfo\u001b[39m.\u001b[39mdataset_size)\n\u001b[1;32m   2165\u001b[0m )\n",
      "File \u001b[0;32m~/anaconda3/envs/zaloai/lib/python3.10/site-packages/datasets/builder.py:954\u001b[0m, in \u001b[0;36mDatasetBuilder.download_and_prepare\u001b[0;34m(self, output_dir, download_config, download_mode, verification_mode, ignore_verifications, try_from_hf_gcs, dl_manager, base_path, use_auth_token, file_format, max_shard_size, num_proc, storage_options, **download_and_prepare_kwargs)\u001b[0m\n\u001b[1;32m    952\u001b[0m     \u001b[39mif\u001b[39;00m num_proc \u001b[39mis\u001b[39;00m \u001b[39mnot\u001b[39;00m \u001b[39mNone\u001b[39;00m:\n\u001b[1;32m    953\u001b[0m         prepare_split_kwargs[\u001b[39m\"\u001b[39m\u001b[39mnum_proc\u001b[39m\u001b[39m\"\u001b[39m] \u001b[39m=\u001b[39m num_proc\n\u001b[0;32m--> 954\u001b[0m     \u001b[39mself\u001b[39;49m\u001b[39m.\u001b[39;49m_download_and_prepare(\n\u001b[1;32m    955\u001b[0m         dl_manager\u001b[39m=\u001b[39;49mdl_manager,\n\u001b[1;32m    956\u001b[0m         verification_mode\u001b[39m=\u001b[39;49mverification_mode,\n\u001b[1;32m    957\u001b[0m         \u001b[39m*\u001b[39;49m\u001b[39m*\u001b[39;49mprepare_split_kwargs,\n\u001b[1;32m    958\u001b[0m         \u001b[39m*\u001b[39;49m\u001b[39m*\u001b[39;49mdownload_and_prepare_kwargs,\n\u001b[1;32m    959\u001b[0m     )\n\u001b[1;32m    960\u001b[0m \u001b[39m# Sync info\u001b[39;00m\n\u001b[1;32m    961\u001b[0m \u001b[39mself\u001b[39m\u001b[39m.\u001b[39minfo\u001b[39m.\u001b[39mdataset_size \u001b[39m=\u001b[39m \u001b[39msum\u001b[39m(split\u001b[39m.\u001b[39mnum_bytes \u001b[39mfor\u001b[39;00m split \u001b[39min\u001b[39;00m \u001b[39mself\u001b[39m\u001b[39m.\u001b[39minfo\u001b[39m.\u001b[39msplits\u001b[39m.\u001b[39mvalues())\n",
      "File \u001b[0;32m~/anaconda3/envs/zaloai/lib/python3.10/site-packages/datasets/builder.py:1049\u001b[0m, in \u001b[0;36mDatasetBuilder._download_and_prepare\u001b[0;34m(self, dl_manager, verification_mode, **prepare_split_kwargs)\u001b[0m\n\u001b[1;32m   1045\u001b[0m split_dict\u001b[39m.\u001b[39madd(split_generator\u001b[39m.\u001b[39msplit_info)\n\u001b[1;32m   1047\u001b[0m \u001b[39mtry\u001b[39;00m:\n\u001b[1;32m   1048\u001b[0m     \u001b[39m# Prepare split will record examples associated to the split\u001b[39;00m\n\u001b[0;32m-> 1049\u001b[0m     \u001b[39mself\u001b[39;49m\u001b[39m.\u001b[39;49m_prepare_split(split_generator, \u001b[39m*\u001b[39;49m\u001b[39m*\u001b[39;49mprepare_split_kwargs)\n\u001b[1;32m   1050\u001b[0m \u001b[39mexcept\u001b[39;00m \u001b[39mOSError\u001b[39;00m \u001b[39mas\u001b[39;00m e:\n\u001b[1;32m   1051\u001b[0m     \u001b[39mraise\u001b[39;00m \u001b[39mOSError\u001b[39;00m(\n\u001b[1;32m   1052\u001b[0m         \u001b[39m\"\u001b[39m\u001b[39mCannot find data file. \u001b[39m\u001b[39m\"\u001b[39m\n\u001b[1;32m   1053\u001b[0m         \u001b[39m+\u001b[39m (\u001b[39mself\u001b[39m\u001b[39m.\u001b[39mmanual_download_instructions \u001b[39mor\u001b[39;00m \u001b[39m\"\u001b[39m\u001b[39m\"\u001b[39m)\n\u001b[1;32m   1054\u001b[0m         \u001b[39m+\u001b[39m \u001b[39m\"\u001b[39m\u001b[39m\\n\u001b[39;00m\u001b[39mOriginal error:\u001b[39m\u001b[39m\\n\u001b[39;00m\u001b[39m\"\u001b[39m\n\u001b[1;32m   1055\u001b[0m         \u001b[39m+\u001b[39m \u001b[39mstr\u001b[39m(e)\n\u001b[1;32m   1056\u001b[0m     ) \u001b[39mfrom\u001b[39;00m \u001b[39mNone\u001b[39;00m\n",
      "File \u001b[0;32m~/anaconda3/envs/zaloai/lib/python3.10/site-packages/datasets/builder.py:1813\u001b[0m, in \u001b[0;36mArrowBasedBuilder._prepare_split\u001b[0;34m(self, split_generator, file_format, num_proc, max_shard_size)\u001b[0m\n\u001b[1;32m   1811\u001b[0m job_id \u001b[39m=\u001b[39m \u001b[39m0\u001b[39m\n\u001b[1;32m   1812\u001b[0m \u001b[39mwith\u001b[39;00m pbar:\n\u001b[0;32m-> 1813\u001b[0m     \u001b[39mfor\u001b[39;00m job_id, done, content \u001b[39min\u001b[39;00m \u001b[39mself\u001b[39m\u001b[39m.\u001b[39m_prepare_split_single(\n\u001b[1;32m   1814\u001b[0m         gen_kwargs\u001b[39m=\u001b[39mgen_kwargs, job_id\u001b[39m=\u001b[39mjob_id, \u001b[39m*\u001b[39m\u001b[39m*\u001b[39m_prepare_split_args\n\u001b[1;32m   1815\u001b[0m     ):\n\u001b[1;32m   1816\u001b[0m         \u001b[39mif\u001b[39;00m done:\n\u001b[1;32m   1817\u001b[0m             result \u001b[39m=\u001b[39m content\n",
      "File \u001b[0;32m~/anaconda3/envs/zaloai/lib/python3.10/site-packages/datasets/builder.py:1958\u001b[0m, in \u001b[0;36mArrowBasedBuilder._prepare_split_single\u001b[0;34m(self, gen_kwargs, fpath, file_format, max_shard_size, job_id)\u001b[0m\n\u001b[1;32m   1956\u001b[0m     \u001b[39mif\u001b[39;00m \u001b[39misinstance\u001b[39m(e, SchemaInferenceError) \u001b[39mand\u001b[39;00m e\u001b[39m.\u001b[39m__context__ \u001b[39mis\u001b[39;00m \u001b[39mnot\u001b[39;00m \u001b[39mNone\u001b[39;00m:\n\u001b[1;32m   1957\u001b[0m         e \u001b[39m=\u001b[39m e\u001b[39m.\u001b[39m__context__\n\u001b[0;32m-> 1958\u001b[0m     \u001b[39mraise\u001b[39;00m DatasetGenerationError(\u001b[39m\"\u001b[39m\u001b[39mAn error occurred while generating the dataset\u001b[39m\u001b[39m\"\u001b[39m) \u001b[39mfrom\u001b[39;00m \u001b[39me\u001b[39;00m\n\u001b[1;32m   1960\u001b[0m \u001b[39myield\u001b[39;00m job_id, \u001b[39mTrue\u001b[39;00m, (total_num_examples, total_num_bytes, writer\u001b[39m.\u001b[39m_features, num_shards, shard_lengths)\n",
      "\u001b[0;31mDatasetGenerationError\u001b[0m: An error occurred while generating the dataset"
     ]
    }
   ],
   "source": [
    "import pandas as pd\n",
    "import torch\n",
    "import json\n",
    "from transformers import BloomTokenizerFast, BloomForCausalLM, Trainer\n",
    "from transformers.training_args import TrainingArguments\n",
    "from datasets import load_dataset\n",
    "\n",
    "# Loading bloomz model and tokenizer \n",
    "tokenizer = BloomTokenizerFast.from_pretrained(\"bigscience/bloomz-560m\")\n",
    "model = BloomForCausalLM.from_pretrained(\"bigscience/bloomz-560m\")\n",
    "\n",
    "# Loading dataset prompts.json built using de portuguese legalQA dataset\n",
    "dataset = load_dataset(\"json\", data_files=\"/Users/ethantrang/Documents/zaloai_challenge_2023/data/prompts.json\")\n",
    "\n",
    "# # prepare the data for training\n",
    "# def prepare_train_data(data):\n",
    "#     # prompt + completion\n",
    "#     text_input = data['text']\n",
    "#     # tokenize the input (prompt + completion) text\n",
    "#     tokenized_input = tokenizer(text_input, return_tensors='pt', padding=True)\n",
    "#     # generative models: labels are the same as the input\n",
    "#     tokenized_input['labels'] = tokenized_input['input_ids']\n",
    "#     return tokenized_input\n",
    "\n",
    "# train_dataset = dataset['train'].map(prepare_train_data, \n",
    "#                                      batched=True, \n",
    "#                                      remove_columns=[\"text\"])"
   ]
  },
  {
   "cell_type": "code",
   "execution_count": 1,
   "metadata": {},
   "outputs": [
    {
     "name": "stderr",
     "output_type": "stream",
     "text": [
      "/Users/ethantrang/anaconda3/envs/zaloai/lib/python3.10/site-packages/transformers/generation/utils.py:1273: UserWarning: Using the model-agnostic default `max_length` (=20) to control the generation length. We recommend setting `max_new_tokens` to control the maximum length of the generation.\n",
      "  warnings.warn(\n"
     ]
    },
    {
     "name": "stdout",
     "output_type": "stream",
     "text": [
      "Translate to English: Je t’aime. I love you.</s>\n"
     ]
    }
   ],
   "source": [
    "# pip install -q transformers\n",
    "from transformers import AutoModelForCausalLM, AutoTokenizer\n",
    "\n",
    "checkpoint = \"bigscience/bloomz-560m\"\n",
    "\n",
    "tokenizer = AutoTokenizer.from_pretrained(checkpoint)\n",
    "model = AutoModelForCausalLM.from_pretrained(checkpoint)\n",
    "\n",
    "inputs = tokenizer.encode(\"Translate to English: Je t’aime.\", return_tensors=\"pt\")\n",
    "outputs = model.generate(inputs)\n",
    "print(tokenizer.decode(outputs[0]))\n"
   ]
  },
  {
   "cell_type": "code",
   "execution_count": null,
   "metadata": {},
   "outputs": [],
   "source": []
  }
 ],
 "metadata": {
  "kernelspec": {
   "display_name": "zaloai",
   "language": "python",
   "name": "python3"
  },
  "language_info": {
   "codemirror_mode": {
    "name": "ipython",
    "version": 3
   },
   "file_extension": ".py",
   "mimetype": "text/x-python",
   "name": "python",
   "nbconvert_exporter": "python",
   "pygments_lexer": "ipython3",
   "version": "3.10.13"
  }
 },
 "nbformat": 4,
 "nbformat_minor": 2
}
